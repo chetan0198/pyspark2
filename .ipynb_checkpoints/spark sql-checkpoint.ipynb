{
 "cells": [
  {
   "cell_type": "markdown",
   "id": "c962acc1-a970-488a-a2e9-46a64a1d3eee",
   "metadata": {},
   "source": [
    "# sparksql"
   ]
  },
  {
   "cell_type": "code",
   "execution_count": null,
   "id": "8754e495-19a7-4c2a-a14d-cd82e60f7e34",
   "metadata": {},
   "outputs": [],
   "source": [
    "# to convert any data"
   ]
  },
  {
   "cell_type": "code",
   "execution_count": 4,
   "id": "e3ab5c96-29bc-4591-9cdf-0c615c3ebdfb",
   "metadata": {},
   "outputs": [
    {
     "name": "stderr",
     "output_type": "stream",
     "text": [
      "[Stage 0:>                                                          (0 + 1) / 1]\r"
     ]
    },
    {
     "name": "stdout",
     "output_type": "stream",
     "text": [
      "+---+--------+\n",
      "| id|    name|\n",
      "+---+--------+\n",
      "|  2| Fitness|\n",
      "|  3|Footwear|\n",
      "|  4| Apparel|\n",
      "|  5|    Golf|\n",
      "|  6|Outdoors|\n",
      "|  7|Fan Shop|\n",
      "+---+--------+\n",
      "\n"
     ]
    },
    {
     "name": "stderr",
     "output_type": "stream",
     "text": [
      "                                                                                \r"
     ]
    }
   ],
   "source": [
    "from pyspark.sql.types import StructType, StructField, StringType, IntegerType\n",
    "\n",
    "custom_schema = StructType([\n",
    "    StructField(\"id\", IntegerType(), True),\n",
    "    StructField(\"name\", StringType(), True),\n",
    "    # Add more StructFields as needed\n",
    "])\n",
    "\n",
    "df=spark.read.csv('/home/neosoft/Desktop/pyspark learning/RetailDB+SalesData/RetailDB SalesData/Departments/part-00000',schema=custom_schema)\n",
    "df.show()"
   ]
  },
  {
   "cell_type": "code",
   "execution_count": null,
   "id": "52a26cf4-5b06-4a5b-b89d-3298d0010c17",
   "metadata": {},
   "outputs": [],
   "source": []
  },
  {
   "cell_type": "code",
   "execution_count": null,
   "id": "9e3db92a-dc8f-4110-8ce2-a56a921cda0e",
   "metadata": {},
   "outputs": [],
   "source": []
  },
  {
   "cell_type": "code",
   "execution_count": null,
   "id": "11894e16-02c2-4e1d-a12e-a36740d278bd",
   "metadata": {},
   "outputs": [],
   "source": []
  },
  {
   "cell_type": "code",
   "execution_count": 5,
   "id": "f55f970e-0a28-40f8-8dbe-69767ca1f671",
   "metadata": {},
   "outputs": [
    {
     "data": {
      "text/plain": [
       "pyspark.sql.dataframe.DataFrame"
      ]
     },
     "execution_count": 5,
     "metadata": {},
     "output_type": "execute_result"
    }
   ],
   "source": [
    "df.createOrReplaceTempView('dept_table')\n",
    "type(df)"
   ]
  },
  {
   "cell_type": "code",
   "execution_count": 7,
   "id": "a4b70107-0194-430e-9db2-973c2773b212",
   "metadata": {},
   "outputs": [
    {
     "name": "stdout",
     "output_type": "stream",
     "text": [
      "+---+--------+\n",
      "| id|    name|\n",
      "+---+--------+\n",
      "|  2| Fitness|\n",
      "|  3|Footwear|\n",
      "|  4| Apparel|\n",
      "|  5|    Golf|\n",
      "|  6|Outdoors|\n",
      "|  7|Fan Shop|\n",
      "+---+--------+\n",
      "\n"
     ]
    }
   ],
   "source": [
    "spark.sql(\"select * from dept_table\").show()"
   ]
  },
  {
   "cell_type": "code",
   "execution_count": 11,
   "id": "872b47ff-64b2-4316-8217-1636ddb269b6",
   "metadata": {},
   "outputs": [
    {
     "name": "stdout",
     "output_type": "stream",
     "text": [
      "+--------+\n",
      "|count(1)|\n",
      "+--------+\n",
      "|       6|\n",
      "+--------+\n",
      "\n"
     ]
    }
   ],
   "source": [
    "spark.sql(\"select count(*) from dept_table\").show()"
   ]
  },
  {
   "cell_type": "code",
   "execution_count": null,
   "id": "5ecfec76-a25c-4f5f-bcfd-bb3d267d777b",
   "metadata": {},
   "outputs": [],
   "source": []
  },
  {
   "cell_type": "code",
   "execution_count": null,
   "id": "40b95fc5-09c2-4022-9fcd-2d9da10c65a5",
   "metadata": {},
   "outputs": [],
   "source": []
  },
  {
   "cell_type": "code",
   "execution_count": 14,
   "id": "e47d3bf0-b1cc-4cb8-80ae-df12a0eb5a24",
   "metadata": {},
   "outputs": [
    {
     "name": "stdout",
     "output_type": "stream",
     "text": [
      "+---+--------+\n",
      "| id|    naem|\n",
      "+---+--------+\n",
      "|  2| Fitness|\n",
      "|  3|Footwear|\n",
      "|  4| Apparel|\n",
      "|  5|    Golf|\n",
      "|  6|Outdoors|\n",
      "|  7|Fan Shop|\n",
      "+---+--------+\n",
      "\n"
     ]
    }
   ],
   "source": [
    "df=spark.read.csv('/home/neosoft/Desktop/pyspark learning/RetailDB+SalesData/RetailDB SalesData/Departments/part-00000',schema=('id int, naem string'))\n",
    "df.show()"
   ]
  },
  {
   "cell_type": "code",
   "execution_count": 15,
   "id": "6e70238c-ab76-41a1-bd89-5b176261eb85",
   "metadata": {},
   "outputs": [
    {
     "name": "stdout",
     "output_type": "stream",
     "text": [
      "root\n",
      " |-- id: integer (nullable = true)\n",
      " |-- naem: string (nullable = true)\n",
      "\n"
     ]
    }
   ],
   "source": [
    "df.printSchema()"
   ]
  }
 ],
 "metadata": {
  "kernelspec": {
   "display_name": "Python 3 (ipykernel)",
   "language": "python",
   "name": "python3"
  },
  "language_info": {
   "codemirror_mode": {
    "name": "ipython",
    "version": 3
   },
   "file_extension": ".py",
   "mimetype": "text/x-python",
   "name": "python",
   "nbconvert_exporter": "python",
   "pygments_lexer": "ipython3",
   "version": "3.8.10"
  }
 },
 "nbformat": 4,
 "nbformat_minor": 5
}
