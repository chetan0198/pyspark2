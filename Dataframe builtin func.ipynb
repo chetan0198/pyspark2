{
 "cells": [
  {
   "cell_type": "code",
   "execution_count": 1,
   "id": "4bd9c9a5-9809-4304-b8e6-07281c10204d",
   "metadata": {},
   "outputs": [
    {
     "name": "stdout",
     "output_type": "stream",
     "text": [
      "intro to dataframe builtin func\n"
     ]
    }
   ],
   "source": [
    "print('intro to dataframe builtin func')"
   ]
  },
  {
   "cell_type": "code",
   "execution_count": null,
   "id": "57b68994-dcb5-4003-9050-40cb8c42d0ed",
   "metadata": {},
   "outputs": [],
   "source": []
  },
  {
   "cell_type": "code",
   "execution_count": null,
   "id": "9c6418d9-7b96-4a45-8b5b-30c02f492eb5",
   "metadata": {},
   "outputs": [],
   "source": [
    "# builting functions.\n",
    "new column\n",
    "na func\n",
    "string func\n",
    "null func\n",
    "formatting\n",
    "date func\n",
    "json func\n"
   ]
  }
 ],
 "metadata": {
  "kernelspec": {
   "display_name": "Python 3 (ipykernel)",
   "language": "python",
   "name": "python3"
  },
  "language_info": {
   "codemirror_mode": {
    "name": "ipython",
    "version": 3
   },
   "file_extension": ".py",
   "mimetype": "text/x-python",
   "name": "python",
   "nbconvert_exporter": "python",
   "pygments_lexer": "ipython3",
   "version": "3.8.10"
  }
 },
 "nbformat": 4,
 "nbformat_minor": 5
}
