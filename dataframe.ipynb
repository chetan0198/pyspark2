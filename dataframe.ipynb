{
 "cells": [
  {
   "cell_type": "code",
   "execution_count": 2,
   "id": "437ec5e8-6a44-41a1-83f1-e013f3163a72",
   "metadata": {},
   "outputs": [
    {
     "name": "stdout",
     "output_type": "stream",
     "text": [
      "intro to Dataframe\n"
     ]
    }
   ],
   "source": [
    "print('intro to Dataframe')"
   ]
  },
  {
   "cell_type": "code",
   "execution_count": null,
   "id": "0c57c380-a5bd-43bb-883b-fc781642178d",
   "metadata": {},
   "outputs": [],
   "source": []
  },
  {
   "cell_type": "code",
   "execution_count": 43,
   "id": "2e4c4172-146b-42c7-ab8c-27f9d083f653",
   "metadata": {},
   "outputs": [
    {
     "name": "stdout",
     "output_type": "stream",
     "text": [
      "+----------+\n",
      "|hair color|\n",
      "+----------+\n",
      "|       red|\n",
      "|       red|\n",
      "|       red|\n",
      "|       red|\n",
      "+----------+\n",
      "\n",
      "+---------+\n",
      "|mob_no[2]|\n",
      "+---------+\n",
      "|     3333|\n",
      "|     3333|\n",
      "|     3333|\n",
      "|     3333|\n",
      "+---------+\n",
      "\n",
      "+---+------+----------------------+--------------------------+\n",
      "|id |name  |mob_no                |eye_hair_color            |\n",
      "+---+------+----------------------+--------------------------+\n",
      "|1  |chetan|[111, 2222, 3333, 444]|{eye -> blue, hair -> red}|\n",
      "|1  |chetan|[111, 2222, 3333, 444]|{eye -> blue, hair -> red}|\n",
      "|1  |chetan|[111, 2222, 3333, 444]|{eye -> blue, hair -> red}|\n",
      "|1  |chetan|[111, 2222, 3333, 444]|{eye -> blue, hair -> red}|\n",
      "+---+------+----------------------+--------------------------+\n",
      "\n"
     ]
    }
   ],
   "source": [
    "# Datatypes in Dataframe\n",
    "from pyspark.sql.types import StructField,StructType,StringType,IntegerType,DateType,ArrayType,MapType\n",
    "from pyspark.sql.functions import current_date\n",
    "schema=StructType([\n",
    "    StructField('id',IntegerType(),True),\n",
    "    StructField('name',StringType(),True),\n",
    "    # StructField('date',DateType(),True),\n",
    "    StructField('mob_no',ArrayType(IntegerType()),True),\n",
    "    StructField('eye_hair_color',MapType(StringType(),StringType()),True)\n",
    "])\n",
    "\n",
    "data=[\n",
    "    (1,'chetan',[111,2222,3333,444],{'eye':'blue','hair':'red'}),\n",
    "    (1,'chetan',[111,2222,3333,444],{'eye':'blue','hair':'red'}),\n",
    "    (1,'chetan',[111,2222,3333,444],{'eye':'blue','hair':'red'}),(1,'chetan',[111,2222,3333,444],{'eye':'blue','hair':'red'})\n",
    "]\n",
    "\n",
    "df=spark.createDataFrame(data=data,schema=schema)\n",
    "# df.printSchema()\n",
    "# df.show()\n",
    "# df.select(df.eye_hair_color.eye).show()\n",
    "df.select(df.eye_hair_color['hair'].alias('hair color')).show()\n",
    "df.select(df.mob_no[2]).show()\n",
    "\n",
    "df.createOrReplaceTempView('emp')\n",
    "spark.sql(\"select * from emp\").show(truncate=False)\n"
   ]
  },
  {
   "cell_type": "code",
   "execution_count": null,
   "id": "68c6f1ff-251b-4214-bfa0-7715239c222a",
   "metadata": {},
   "outputs": [],
   "source": []
  },
  {
   "cell_type": "code",
   "execution_count": null,
   "id": "d5998b83-829f-4e67-a1b8-5632c3541be6",
   "metadata": {},
   "outputs": [],
   "source": [
    "# spark.sql('''create table emp2(id INTEGER,name STRING)''')\n",
    "# # spark.sql('select * from emp2')"
   ]
  },
  {
   "cell_type": "code",
   "execution_count": null,
   "id": "83667bda-0aa3-4977-bce4-ce6a0d384922",
   "metadata": {},
   "outputs": [],
   "source": []
  },
  {
   "cell_type": "code",
   "execution_count": null,
   "id": "071e1fb3-74a7-4071-bd42-ad24478e68a5",
   "metadata": {},
   "outputs": [],
   "source": []
  },
  {
   "cell_type": "code",
   "execution_count": 93,
   "id": "0e7e8fd5-97ea-48e7-b26f-b73f3b974ac2",
   "metadata": {},
   "outputs": [
    {
     "name": "stdout",
     "output_type": "stream",
     "text": [
      "root\n",
      " |-- name1: string (nullable = true)\n",
      " |-- ahe1: integer (nullable = true)\n",
      "\n"
     ]
    },
    {
     "data": {
      "text/plain": [
       "3"
      ]
     },
     "execution_count": 93,
     "metadata": {},
     "output_type": "execute_result"
    }
   ],
   "source": [
    "# DataFrame rows\n",
    "from pyspark.sql import Row\n",
    "\n",
    "row=[Row(Name='chetan',Age=33),Row(Name='chetan',Age=33),Row(Name='chetan',Age=33)]\n",
    "rdd=sc.parallelize(row)\n",
    "\n",
    "df=spark.createDataFrame(row,schema='name1 string, ahe1 int')\n",
    "df.printSchema()\n",
    "df.count()"
   ]
  },
  {
   "cell_type": "code",
   "execution_count": 62,
   "id": "99a04b57-6993-4724-ab1a-b8b7aadffb6e",
   "metadata": {},
   "outputs": [
    {
     "data": {
      "text/plain": [
       "True"
      ]
     },
     "execution_count": 62,
     "metadata": {},
     "output_type": "execute_result"
    }
   ],
   "source": [
    "'chetan' in row.Name\n",
    "# row.Age"
   ]
  },
  {
   "cell_type": "code",
   "execution_count": 65,
   "id": "d25e8d01-aa66-4749-b100-06001183b457",
   "metadata": {},
   "outputs": [
    {
     "data": {
      "text/plain": [
       "True"
      ]
     },
     "execution_count": 65,
     "metadata": {},
     "output_type": "execute_result"
    }
   ],
   "source": [
    "'Age' in row"
   ]
  },
  {
   "cell_type": "code",
   "execution_count": null,
   "id": "36978fef-5a78-4757-9057-09fcf4fd89bb",
   "metadata": {},
   "outputs": [],
   "source": []
  },
  {
   "cell_type": "code",
   "execution_count": 256,
   "id": "6a6526c6-1cf2-485e-9331-c55fc06cc7b6",
   "metadata": {},
   "outputs": [
    {
     "name": "stdout",
     "output_type": "stream",
     "text": [
      "[Row(id=1, col2='2013-07-25 00:00:00.0', tid=11599, status='CLOSED'), Row(id=2, col2='2013-07-25 00:00:00.0', tid=256, status='PENDING_PAYMENT'), Row(id=3, col2='2013-07-25 00:00:00.0', tid=12111, status='COMPLETE'), Row(id=4, col2='2013-07-25 00:00:00.0', tid=8827, status='CLOSED'), Row(id=5, col2='2013-07-25 00:00:00.0', tid=11318, status='COMPLETE'), Row(id=6, col2='2013-07-25 00:00:00.0', tid=7130, status='COMPLETE'), Row(id=7, col2='2013-07-25 00:00:00.0', tid=4530, status='COMPLETE'), Row(id=8, col2='2013-07-25 00:00:00.0', tid=2911, status='PROCESSING'), Row(id=9, col2='2013-07-25 00:00:00.0', tid=5657, status='PENDING_PAYMENT'), Row(id=10, col2='2013-07-25 00:00:00.0', tid=5648, status='PENDING_PAYMENT'), Row(id=11, col2='2013-07-25 00:00:00.0', tid=918, status='PAYMENT_REVIEW')]\n",
      "+---+--------------------+-----+---------------+\n",
      "| id|                col2|  tid|         status|\n",
      "+---+--------------------+-----+---------------+\n",
      "|  1|2013-07-25 00:00:...|11599|         CLOSED|\n",
      "|  2|2013-07-25 00:00:...|  256|PENDING_PAYMENT|\n",
      "|  3|2013-07-25 00:00:...|12111|       COMPLETE|\n",
      "|  4|2013-07-25 00:00:...| 8827|         CLOSED|\n",
      "+---+--------------------+-----+---------------+\n",
      "only showing top 4 rows\n",
      "\n"
     ]
    },
    {
     "data": {
      "text/plain": [
       "Row(id=1, col2='2013-07-25 00:00:00.0', tid=11599, status='CLOSED')"
      ]
     },
     "execution_count": 256,
     "metadata": {},
     "output_type": "execute_result"
    }
   ],
   "source": [
    "df=spark.read.csv(path='RetailDB+SalesData/RetailDB SalesData/Orders/part-00000' ,schema='id int,col2 string, tid int,status string')\n",
    "# print(df.head(3))\n",
    "# print(df.tail(2))\n",
    "# print(df.take(3)[1][2])\n",
    "# print(df.take(3)[1])\n",
    "\n",
    "print(df.take(11))\n",
    "df.head()\n",
    "df.tail(1)\n",
    "df.show(4)\n",
    "df.first()"
   ]
  },
  {
   "cell_type": "code",
   "execution_count": 141,
   "id": "1a6f076e-f23a-4c67-9434-c9f37f671d7f",
   "metadata": {},
   "outputs": [
    {
     "name": "stdout",
     "output_type": "stream",
     "text": [
      "+---+--------+-----+------+\n",
      "| id|datetime|  tid|status|\n",
      "+---+--------+-----+------+\n",
      "|  3|    null|12111|  null|\n",
      "+---+--------+-----+------+\n",
      "\n"
     ]
    }
   ],
   "source": [
    "df.filter((df['id']) == 3).show()"
   ]
  },
  {
   "cell_type": "code",
   "execution_count": null,
   "id": "4bfe9638-fde1-4d99-9c5a-f608104f9a19",
   "metadata": {},
   "outputs": [],
   "source": []
  },
  {
   "cell_type": "code",
   "execution_count": null,
   "id": "97a62961-f3b7-4935-b6d3-b3be6faa2514",
   "metadata": {},
   "outputs": [],
   "source": [
    "# Accessing spedific columns\n",
    "df.select([df.id,df.tid]).show()\n",
    "from pyspark.sql.functions import col\n",
    "df.select(col(\"*\")).show()"
   ]
  },
  {
   "cell_type": "code",
   "execution_count": 195,
   "id": "f04ac75b-bf7b-475d-8aef-80824ac56b38",
   "metadata": {},
   "outputs": [
    {
     "name": "stdout",
     "output_type": "stream",
     "text": [
      "+---------------+\n",
      "|         status|\n",
      "+---------------+\n",
      "|PENDING_PAYMENT|\n",
      "|       COMPLETE|\n",
      "|        ON_HOLD|\n",
      "| PAYMENT_REVIEW|\n",
      "|     PROCESSING|\n",
      "|         CLOSED|\n",
      "|SUSPECTED_FRAUD|\n",
      "|        PENDING|\n",
      "|       CANCELED|\n",
      "+---------------+\n",
      "\n"
     ]
    }
   ],
   "source": [
    "# df.select(df.status.asc()).show()\n",
    "df.orderBy(df.status).select(df.status).distinct().show()\n",
    "# df.select([1:2]).show()"
   ]
  },
  {
   "cell_type": "code",
   "execution_count": null,
   "id": "15e038a4-89dd-4287-a5e4-34ba2a953fb2",
   "metadata": {},
   "outputs": [],
   "source": [
    "# Cast function\n"
   ]
  },
  {
   "cell_type": "code",
   "execution_count": null,
   "id": "b4e6bd18-d358-4210-beab-6e84f76674e8",
   "metadata": {},
   "outputs": [],
   "source": []
  },
  {
   "cell_type": "code",
   "execution_count": null,
   "id": "0b7b73c7-e701-4c6a-b6e0-391df84ae51e",
   "metadata": {},
   "outputs": [],
   "source": []
  },
  {
   "cell_type": "code",
   "execution_count": null,
   "id": "02602771-1cd8-4d67-9aaa-107cd18c177d",
   "metadata": {},
   "outputs": [],
   "source": []
  },
  {
   "cell_type": "code",
   "execution_count": 183,
   "id": "6a5d5995-1d9d-4a2c-af1a-17e27c71e724",
   "metadata": {},
   "outputs": [
    {
     "name": "stdout",
     "output_type": "stream",
     "text": [
      "6 7 8 9 10 11 "
     ]
    }
   ],
   "source": [
    "# Interview Codes\n",
    "\n",
    "# def test():\n",
    "#     n=5\n",
    "\n",
    "#     while True:\n",
    "#         n+=1\n",
    "#         yield n\n",
    "#         if n>10:\n",
    "#             return\n",
    "\n",
    "# for i in test():\n",
    "#     print(i , end=\" \")\n",
    "\n",
    "# def test():\n",
    "#     try:\n",
    "#         return 5/1\n",
    "#     except e:\n",
    "#         return \"test\"\n",
    "#     finally:\n",
    "#         return 100\n",
    "\n",
    "# test()"
   ]
  },
  {
   "cell_type": "code",
   "execution_count": 184,
   "id": "4d0ef065-8e29-4394-9b73-1bbd7235b60a",
   "metadata": {},
   "outputs": [
    {
     "data": {
      "text/plain": [
       "100"
      ]
     },
     "execution_count": 184,
     "metadata": {},
     "output_type": "execute_result"
    }
   ],
   "source": [
    "\n",
    "    "
   ]
  },
  {
   "cell_type": "code",
   "execution_count": 258,
   "id": "c7b0fed6-f4fa-42ee-b491-cf90dece5aa8",
   "metadata": {},
   "outputs": [
    {
     "data": {
      "text/plain": [
       "10150"
      ]
     },
     "execution_count": 258,
     "metadata": {},
     "output_type": "execute_result"
    }
   ],
   "source": [
    "# get the data of 2013 and completed orders.\n",
    "# df.show(4)\n",
    "# df.where(df.status == 'COMPLETE').show()\n",
    "filt_data=df.where((df['col2'].substr(1,4) ==  '2013') & (df.status == 'COMPLETE'))\n",
    "filt_data.count()\n",
    "# df.dtypes\n",
    "\n",
    "# help(df.status.substr)"
   ]
  }
 ],
 "metadata": {
  "kernelspec": {
   "display_name": "Python 3 (ipykernel)",
   "language": "python",
   "name": "python3"
  },
  "language_info": {
   "codemirror_mode": {
    "name": "ipython",
    "version": 3
   },
   "file_extension": ".py",
   "mimetype": "text/x-python",
   "name": "python",
   "nbconvert_exporter": "python",
   "pygments_lexer": "ipython3",
   "version": "3.8.10"
  }
 },
 "nbformat": 4,
 "nbformat_minor": 5
}
